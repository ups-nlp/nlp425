{
 "cells": [
  {
   "cell_type": "code",
   "execution_count": null,
   "metadata": {},
   "outputs": [],
   "source": [
    "\n",
    "import numpy as np\n",
    "import tensorflow as tf\n",
    "import re\n",
    "from keras.layers import LSTM, Dense, Activation, Input\n",
    "from keras import optimizers\n",
    "from keras.models import Sequential\n",
    "from keras.layers.embeddings import Embedding\n",
    "from keras.preprocessing import sequence\n",
    "from keras.preprocessing.text import Tokenizer\n",
    "import os, sys, glob"
   ]
  },
  {
   "cell_type": "code",
   "execution_count": null,
   "metadata": {},
   "outputs": [],
   "source": [
    "##Preprocessing\n",
    "#load text t\n",
    "filename = \"../resources/clean_dataset.txt\"\n",
    "raw_text = open(filename).read()\n",
    "\n",
    "filename = \"../resources/source_data.txt\"\n",
    "input_text = open(filename).read()\n",
    "\n",
    "filename = \"../resources/target_data.txt\"\n",
    "output_text = open(filename).read()\n",
    "\n",
    "\n",
    "#Splitting text into a word per element array and punctuation also is its own element\n",
    "#python does not distingiush between \" and ' therfore do not worry about words that \n",
    "#contain ' and appear in \"\" \n",
    "split_raw_text = re.findall(\"[\\w']+|[.,!?;:-]\" , raw_text)\t\n",
    "\n",
    "# estimate vocab size\n",
    "vocab = set(split_raw_text)\n",
    "vocab_size = len(vocab)\n",
    "\n",
    "tokenizer = Tokenizer(num_words=vocab_size)\n",
    "\n",
    "#fit the tokenizer on the text \n",
    "tokenizer.fit_on_texts(raw_text)\n",
    "\n",
    "# integer encode input and output\n",
    "encoded_input = tokenizer.texts_to_matrix(input_text, mode='count')\n",
    "encoded_output = tokenizer.texts_to_matrix(output_text, mode='count')"
   ]
  }
 ],
 "metadata": {
  "kernelspec": {
   "display_name": "Python 3",
   "language": "python",
   "name": "python3"
  },
  "language_info": {
   "codemirror_mode": {
    "name": "ipython",
    "version": 3
   },
   "file_extension": ".py",
   "mimetype": "text/x-python",
   "name": "python",
   "nbconvert_exporter": "python",
   "pygments_lexer": "ipython3",
   "version": "3.6.5"
  }
 },
 "nbformat": 4,
 "nbformat_minor": 2
}
