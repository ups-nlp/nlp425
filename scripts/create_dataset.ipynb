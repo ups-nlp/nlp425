{
 "cells": [
  {
   "cell_type": "markdown",
   "metadata": {},
   "source": [
    "# Create Dataset File\n",
    "\n",
    "(1) Combines all dataset files into one file\n",
    "\n",
    "(2) Removes unnecessary information\n",
    "\n",
    "(3) Dataset file will contain the following information on each line, tab seperated:\n",
    "\n",
    "   - type of utterance\n",
    "   - Speaker A's utterance\n",
    "   - Speaker B's response to that utterance"
   ]
  },
  {
   "cell_type": "code",
   "execution_count": null,
   "metadata": {
    "collapsed": true
   },
   "outputs": [],
   "source": [
    "import os\n",
    "from os.path import isfile, join"
   ]
  },
  {
   "cell_type": "code",
   "execution_count": null,
   "metadata": {
    "collapsed": true
   },
   "outputs": [],
   "source": [
    "#create path to switchboard folder\n",
    "cwd = os.getcwd()\n",
    "dir_path = cwd + \"/../resources/switchboard_scrubbed3/\"\n",
    "#create output file in resources folder\n",
    "dataset_path = cwd + \"/../resources/dataset.utt\"\n",
    "dataset = open(dataset_path,\"w+\")\n",
    "\n",
    "#iterate through all files in all subfolders, print them all\n",
    "for subdir, dirs, files in os.walk(dir_path):\n",
    "\tfor file in files:\n",
    "\t\tprint(\"Opening file: \", os.path.join(subdir, file))\n",
    "        curr_file = open(file, \"r\")\n",
    "        ##call Ian's alignment method on file\n",
    "            # file = //method call\n",
    "        for each line in file:\n",
    "            #clean the line, remove unnecessary info \n",
    "            #I think we should keep three tabs worth of info from each line:\n",
    "            # (1) the type of utterance\n",
    "            # (2) A's utterance\n",
    "            # (3) B's response utterance\n",
    "            cells = line.split(\t) #this is the tab character from the dataset, but change it if this line breaks\n",
    "            line = cells[0] + \"\\t\" + cells[2] + \"\\t\" + cells[3]\n",
    "            #add line to dataset file\n",
    "            dataset.write(line)\n",
    "            \n",
    "dataset.close()"
   ]
  }
 ],
 "metadata": {
  "kernelspec": {
   "display_name": "Python 3",
   "language": "python",
   "name": "python3"
  },
  "language_info": {
   "codemirror_mode": {
    "name": "ipython",
    "version": 3
   },
   "file_extension": ".py",
   "mimetype": "text/x-python",
   "name": "python",
   "nbconvert_exporter": "python",
   "pygments_lexer": "ipython3",
   "version": "3.6.3"
  }
 },
 "nbformat": 4,
 "nbformat_minor": 2
}
